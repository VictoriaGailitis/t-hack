{
 "cells": [
  {
   "cell_type": "code",
   "execution_count": 34,
   "metadata": {},
   "outputs": [],
   "source": [
    "import pandas as pd\n",
    "import numpy as np\n",
    "import lightgbm as lgb\n",
    "from sklearn.model_selection import train_test_split\n",
    "from sklearn.metrics import mean_squared_error, mean_absolute_error, r2_score\n"
   ]
  },
  {
   "cell_type": "code",
   "execution_count": 57,
   "metadata": {},
   "outputs": [
    {
     "data": {
      "text/plain": [
       "(954, 17)"
      ]
     },
     "execution_count": 57,
     "metadata": {},
     "output_type": "execute_result"
    }
   ],
   "source": [
    "# Чтение данных\n",
    "offer_stat = pd.read_csv('../data/offer_statistic.csv')\n",
    "offer_stat.head()\n",
    "offer_stat.shape"
   ]
  },
  {
   "cell_type": "code",
   "execution_count": 58,
   "metadata": {},
   "outputs": [
    {
     "data": {
      "text/plain": [
       "(500000, 8)"
      ]
     },
     "execution_count": 58,
     "metadata": {},
     "output_type": "execute_result"
    }
   ],
   "source": [
    "cb_accruals = pd.read_csv('../data/cb_accruals.csv').head(500000)\n",
    "cb_accruals.head()\n",
    "cb_accruals.shape\n"
   ]
  },
  {
   "cell_type": "code",
   "execution_count": 59,
   "metadata": {},
   "outputs": [
    {
     "data": {
      "text/plain": [
       "(500000, 8)"
      ]
     },
     "execution_count": 59,
     "metadata": {},
     "output_type": "execute_result"
    }
   ],
   "source": [
    "client_data = pd.read_csv('../data/clients.csv')\n",
    "client_data.head()\n",
    "client_data.shape"
   ]
  },
  {
   "cell_type": "code",
   "execution_count": 38,
   "metadata": {},
   "outputs": [],
   "source": [
    "# Объединение таблиц по offer_id\n",
    "merged_df = offer_stat.merge(cb_accruals, on='offer_id', how='left')"
   ]
  },
  {
   "cell_type": "code",
   "execution_count": 39,
   "metadata": {},
   "outputs": [],
   "source": [
    "# Объединение данных по client_id\n",
    "merged_df = merged_df.merge(client_data, on='client_id', how='left')"
   ]
  },
  {
   "cell_type": "code",
   "execution_count": 40,
   "metadata": {},
   "outputs": [],
   "source": [
    "# Преобразование client_id и point_sale_name\n",
    "merged_df['client_id'] = merged_df['client_id'].astype('category').cat.codes\n",
    "merged_df['point_sale_name'] = merged_df['point_sale_name'].astype('category').cat.codes"
   ]
  },
  {
   "cell_type": "code",
   "execution_count": 41,
   "metadata": {},
   "outputs": [],
   "source": [
    "# Обработка дат\n",
    "merged_df['open_date'] = pd.to_datetime(merged_df['open_date'])\n",
    "merged_df['close_date'] = pd.to_datetime(merged_df['close_date'])\n",
    "merged_df['open_date_timestamp'] = merged_df['open_date'].astype(np.int64) // 10**9\n",
    "merged_df['close_date_timestamp'] = merged_df['close_date'].astype(np.int64) // 10**9\n",
    "merged_df['days_to_close'] = (merged_df['close_date'] - merged_df['open_date']).dt.days\n",
    "merged_df['month'] = merged_df['open_date'].dt.month\n",
    "merged_df['quarter'] = merged_df['open_date'].dt.quarter\n",
    "merged_df['day_of_week'] = merged_df['open_date'].dt.dayofweek"
   ]
  },
  {
   "cell_type": "code",
   "execution_count": 42,
   "metadata": {},
   "outputs": [],
   "source": [
    "# Конвертация категориальных признаков с высокой кардинальностью в тип category для экономии памяти\n",
    "high_cardinality_columns = ['city_name', 'state_name']\n",
    "for col in high_cardinality_columns:\n",
    "    merged_df[col] = merged_df[col].astype('category')"
   ]
  },
  {
   "cell_type": "code",
   "execution_count": 43,
   "metadata": {},
   "outputs": [],
   "source": [
    "# Применяем get_dummies к признакам с низкой кардинальностью и создаем sparse-матрицу для экономии памяти\n",
    "merged_df = pd.get_dummies(\n",
    "    merged_df,\n",
    "    columns=['brand_id', 'offer_id', 'auditory_type', 'education_level', 'marital_status'], \n",
    "    drop_first=True, \n",
    "    sparse=True\n",
    ")"
   ]
  },
  {
   "cell_type": "code",
   "execution_count": 44,
   "metadata": {},
   "outputs": [],
   "source": [
    "# Для признаков с высокой кардинальностью используем label encoding\n",
    "merged_df['city_name'] = merged_df['city_name'].cat.codes\n",
    "merged_df['state_name'] = merged_df['state_name'].cat.codes"
   ]
  },
  {
   "cell_type": "code",
   "execution_count": 45,
   "metadata": {},
   "outputs": [],
   "source": [
    "# Отделение целевых переменных и фич\n",
    "X = merged_df.drop(columns=['purchase_count', 'amount_purchase', 'amount_cb', 'open_date', 'close_date'])\n",
    "y_purchase = merged_df['purchase_count']\n",
    "y_amount_purchase = merged_df['amount_purchase']\n",
    "y_amount_cb = merged_df['amount_cb']"
   ]
  },
  {
   "cell_type": "code",
   "execution_count": 46,
   "metadata": {},
   "outputs": [],
   "source": [
    "# Разделение данных на тренировочные и тестовые наборы\n",
    "X_train, X_val, y_purchase_train, y_purchase_val = train_test_split(X, y_purchase, test_size=0.2, random_state=42)\n",
    "_, _, y_amount_purchase_train, y_amount_purchase_val = train_test_split(X, y_amount_purchase, test_size=0.2, random_state=42)\n",
    "_, _, y_amount_cb_train, y_amount_cb_val = train_test_split(X, y_amount_cb, test_size=0.2, random_state=42)\n"
   ]
  },
  {
   "cell_type": "code",
   "execution_count": 48,
   "metadata": {},
   "outputs": [],
   "source": [
    "\n",
    "# Параметры модели LightGBM\n",
    "params = {\n",
    "    'objective': 'regression',\n",
    "    'metric': 'rmse',\n",
    "    'learning_rate': 0.1,\n",
    "    'num_leaves': 31,\n",
    "    'verbose': -1\n",
    "}"
   ]
  },
  {
   "cell_type": "code",
   "execution_count": 49,
   "metadata": {},
   "outputs": [],
   "source": [
    "# Обучение модели для предсказания purchase_count\n",
    "train_data_purchase = lgb.Dataset(X_train, label=y_purchase_train)\n",
    "val_data_purchase = lgb.Dataset(X_val, label=y_purchase_val, reference=train_data_purchase)\n",
    "model_purchase = lgb.train(params, train_data_purchase, num_boost_round=500, valid_sets=[val_data_purchase])\n"
   ]
  },
  {
   "cell_type": "code",
   "execution_count": 50,
   "metadata": {},
   "outputs": [],
   "source": [
    "# Обучение модели для предсказания amount_purchase\n",
    "train_data_amount_purchase = lgb.Dataset(X_train, label=y_amount_purchase_train)\n",
    "val_data_amount_purchase = lgb.Dataset(X_val, label=y_amount_purchase_val, reference=train_data_amount_purchase)\n",
    "model_amount_purchase = lgb.train(params, train_data_amount_purchase, num_boost_round=500, valid_sets=[val_data_amount_purchase])\n"
   ]
  },
  {
   "cell_type": "code",
   "execution_count": 51,
   "metadata": {},
   "outputs": [],
   "source": [
    "# Обучение модели для предсказания amount_cb\n",
    "train_data_amount_cb = lgb.Dataset(X_train, label=y_amount_cb_train)\n",
    "val_data_amount_cb = lgb.Dataset(X_val, label=y_amount_cb_val, reference=train_data_amount_cb)\n",
    "model_amount_cb = lgb.train(params, train_data_amount_cb, num_boost_round=500, valid_sets=[val_data_amount_cb])\n"
   ]
  },
  {
   "cell_type": "code",
   "execution_count": 52,
   "metadata": {},
   "outputs": [],
   "source": [
    "# Функция оценки модели\n",
    "def evaluate_model(y_true, y_pred, target_name):\n",
    "    rmse = np.sqrt(mean_squared_error(y_true, y_pred))\n",
    "    mae = mean_absolute_error(y_true, y_pred)\n",
    "    r2 = r2_score(y_true, y_pred)\n",
    "    print(f\"Метрики для {target_name}:\")\n",
    "    print(f\"  RMSE: {rmse:.2f}\")\n",
    "    print(f\"  MAE: {mae:.2f}\")\n",
    "    print(f\"  R²: {r2:.2f}\")\n",
    "    print(\"\")\n"
   ]
  },
  {
   "cell_type": "code",
   "execution_count": 53,
   "metadata": {},
   "outputs": [
    {
     "name": "stdout",
     "output_type": "stream",
     "text": [
      "Метрики для Количество покупок:\n",
      "  RMSE: 310.07\n",
      "  MAE: 8.08\n",
      "  R²: 1.00\n",
      "\n"
     ]
    }
   ],
   "source": [
    "evaluate_model(y_purchase_val, model_purchase.predict(X_val), \"Количество покупок\")"
   ]
  },
  {
   "cell_type": "code",
   "execution_count": 54,
   "metadata": {},
   "outputs": [
    {
     "name": "stdout",
     "output_type": "stream",
     "text": [
      "Метрики для Сумма покупок:\n",
      "  RMSE: 790079.18\n",
      "  MAE: 28229.99\n",
      "  R²: 1.00\n",
      "\n"
     ]
    }
   ],
   "source": [
    "evaluate_model(y_amount_purchase_val, model_amount_purchase.predict(X_val), \"Сумма покупок\")"
   ]
  },
  {
   "cell_type": "code",
   "execution_count": 55,
   "metadata": {},
   "outputs": [
    {
     "name": "stdout",
     "output_type": "stream",
     "text": [
      "Метрики для Сумма кешбэка:\n",
      "  RMSE: 59571.49\n",
      "  MAE: 1785.99\n",
      "  R²: 1.00\n",
      "\n"
     ]
    }
   ],
   "source": [
    "evaluate_model(y_amount_cb_val, model_amount_cb.predict(X_val), \"Сумма кешбэка\")"
   ]
  }
 ],
 "metadata": {
  "kernelspec": {
   "display_name": "Python 3",
   "language": "python",
   "name": "python3"
  },
  "language_info": {
   "codemirror_mode": {
    "name": "ipython",
    "version": 3
   },
   "file_extension": ".py",
   "mimetype": "text/x-python",
   "name": "python",
   "nbconvert_exporter": "python",
   "pygments_lexer": "ipython3",
   "version": "3.12.4"
  }
 },
 "nbformat": 4,
 "nbformat_minor": 2
}
